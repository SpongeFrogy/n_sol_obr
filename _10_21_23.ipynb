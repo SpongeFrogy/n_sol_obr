{
 "cells": [
  {
   "cell_type": "code",
   "execution_count": 102,
   "metadata": {},
   "outputs": [],
   "source": [
    "import numpy as np "
   ]
  },
  {
   "cell_type": "code",
   "execution_count": 103,
   "metadata": {},
   "outputs": [],
   "source": [
    "from funcs import *"
   ]
  },
  {
   "cell_type": "code",
   "execution_count": 104,
   "metadata": {},
   "outputs": [],
   "source": [
    "plot_settings()\n",
    "plt.rcParams['figure.figsize'] = (15, 5)"
   ]
  },
  {
   "cell_type": "code",
   "execution_count": 105,
   "metadata": {},
   "outputs": [],
   "source": [
    "A = np.array([[1,   np.sqrt(2)],\n",
    "              [2, 2*np.sqrt(2)]])\n",
    "\n",
    "B = np.array([[1,   2],\n",
    "              [np.sqrt(2), 2*np.sqrt(2)]])\n",
    "\n",
    "f = np.array([1, np.sqrt(2)])\n",
    "\n",
    "f_r = np.round(f, 2)\n",
    "\n",
    "r = np.array([2, -1])\n"
   ]
  },
  {
   "cell_type": "code",
   "execution_count": 107,
   "metadata": {},
   "outputs": [],
   "source": [
    "# Регуляризация сдвигом\n",
    "x_ = lambda alpha: np.linalg.inv(B + alpha*np.eye(*B.shape)) @ f"
   ]
  },
  {
   "cell_type": "code",
   "execution_count": 108,
   "metadata": {},
   "outputs": [
    {
     "data": {
      "text/plain": [
       "array([0.2545548 , 0.35999486])"
      ]
     },
     "execution_count": 108,
     "metadata": {},
     "output_type": "execute_result"
    }
   ],
   "source": [
    "x_(0.1) "
   ]
  },
  {
   "cell_type": "code",
   "execution_count": 121,
   "metadata": {},
   "outputs": [],
   "source": [
    "def big_problem(A : np.ndarray, f, alpha=0.1):\n",
    "    G = np.empty((4, 4))\n",
    "    G[:2, :2] = alpha*np.eye(*A.shape)\n",
    "    G[2:, :2] = A.transpose()\n",
    "    G[:2, 2:] = A\n",
    "    G[2:, 2:] = np.eye(*A.shape)\n",
    "\n",
    "    b = np.empty((4,))\n",
    "    b[:2] = f\n",
    "    b[2:] = np.zeros_like(f)\n",
    "\n",
    "    return np.linalg.solve(G, b)"
   ]
  },
  {
   "cell_type": "code",
   "execution_count": 122,
   "metadata": {},
   "outputs": [
    {
     "name": "stdout",
     "output_type": "stream",
     "text": [
      "no round problem:\n",
      "r = [ 2.29175747 -1.27434944]\n",
      "x_alpha = [0.25694142 0.36337004]\n"
     ]
    }
   ],
   "source": [
    "res = big_problem(A, f, 0.1)\n",
    "print(f\"no round problem:\\nr = {res[:2]}\\nx_alpha = {res[2:]}\")"
   ]
  },
  {
   "cell_type": "code",
   "execution_count": 124,
   "metadata": {},
   "outputs": [
    {
     "name": "stdout",
     "output_type": "stream",
     "text": [
      "round problem:\n",
      "r = [ 2.30872483 -1.28255034]\n",
      "x_alpha = [0.25637584 0.36257019]\n"
     ]
    }
   ],
   "source": [
    "res = big_problem(A, f_r, 0.1)\n",
    "print(f\"round problem:\\nr = {res[:2]}\\nx_alpha = {res[2:]}\")"
   ]
  },
  {
   "cell_type": "code",
   "execution_count": 127,
   "metadata": {},
   "outputs": [],
   "source": [
    "def bigger_problem(A : np.ndarray, f, alpha=0.1):\n",
    "    alpha = 0.1\n",
    "    G = np.empty((4, 4))\n",
    "    G[:2, :2] = alpha*np.eye(*A.shape)\n",
    "    G[2:, :2] = A.transpose()\n",
    "    G[:2, 2:] = A\n",
    "    G[2:, 2:] = np.zeros_like(A)\n",
    "\n",
    "    b = np.empty((4,))\n",
    "    b[:2] = f\n",
    "    b[2:] = np.zeros_like(f)\n",
    "\n",
    "    return np.linalg.solve(G + alpha*np.eye(*G.shape), G @ b) / -alpha"
   ]
  },
  {
   "cell_type": "code",
   "execution_count": 129,
   "metadata": {},
   "outputs": [
    {
     "name": "stdout",
     "output_type": "stream",
     "text": [
      "no round problem:\n",
      "r = [ -8.83353851 -14.73814483]\n",
      "x_alpha = [0.25556923 0.36142948]\n"
     ]
    }
   ],
   "source": [
    "res = bigger_problem(A, f, 0.1)\n",
    "print(f\"no round problem:\\nr = {res[:2]}\\nx_alpha = {res[2:]}\")"
   ]
  },
  {
   "cell_type": "code",
   "execution_count": 128,
   "metadata": {},
   "outputs": [
    {
     "name": "stdout",
     "output_type": "stream",
     "text": [
      "round problem:\n",
      "r = [ -8.82510013 -14.70020027]\n",
      "x_alpha = [0.25500668 0.3606339 ]\n"
     ]
    }
   ],
   "source": [
    "res = bigger_problem(A, f_r, 0.1)\n",
    "print(f\"round problem:\\nr = {res[:2]}\\nx_alpha = {res[2:]}\")"
   ]
  }
 ],
 "metadata": {
  "kernelspec": {
   "display_name": "Python 3",
   "language": "python",
   "name": "python3"
  },
  "language_info": {
   "codemirror_mode": {
    "name": "ipython",
    "version": 3
   },
   "file_extension": ".py",
   "mimetype": "text/x-python",
   "name": "python",
   "nbconvert_exporter": "python",
   "pygments_lexer": "ipython3",
   "version": "3.10.11"
  }
 },
 "nbformat": 4,
 "nbformat_minor": 2
}
